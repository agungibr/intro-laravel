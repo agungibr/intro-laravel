{
  "nbformat": 4,
  "nbformat_minor": 0,
  "metadata": {
    "colab": {
      "provenance": [],
      "authorship_tag": "ABX9TyPMpsHRwNDQMk96uf8eZJ6J",
      "include_colab_link": true
    },
    "kernelspec": {
      "name": "python3",
      "display_name": "Python 3"
    },
    "language_info": {
      "name": "python"
    }
  },
  "cells": [
    {
      "cell_type": "markdown",
      "metadata": {
        "id": "view-in-github",
        "colab_type": "text"
      },
      "source": [
        "<a href=\"https://colab.research.google.com/github/agungibr/1-3-Agung/blob/main/laprak1.ipynb\" target=\"_parent\"><img src=\"https://colab.research.google.com/assets/colab-badge.svg\" alt=\"Open In Colab\"/></a>"
      ]
    },
    {
      "cell_type": "code",
      "execution_count": null,
      "metadata": {
        "colab": {
          "base_uri": "https://localhost:8080/"
        },
        "id": "OHQnbE4X72m_",
        "outputId": "f0d02eed-b7df-401c-da9f-739b241cb59c"
      },
      "outputs": [
        {
          "output_type": "stream",
          "name": "stdout",
          "text": [
            "Agung Malik Ibrahim\n",
            "2311110067\n",
            "Larangan, Kec. Kembaran, Kab. Banyumas\n",
            "24 Desember 2004\n",
            "Laki-laki\n",
            "18 tahun\n",
            "081226035254\n"
          ]
        }
      ],
      "source": [
        "nama = \"Agung Malik Ibrahim\"\n",
        "nim = \"2311110067\"\n",
        "alamat = \"Larangan, Kec. Kembaran, Kab. Banyumas\"\n",
        "tanggal_lahir = \"24 Desember 2004\"\n",
        "jenis_kelamin = \"Laki-laki\"\n",
        "umur = \"18 tahun\"\n",
        "no_hp = '081226035254'\n",
        "\n",
        "print (nama)\n",
        "print (nim)\n",
        "print (alamat)\n",
        "print (tanggal_lahir)\n",
        "print (jenis_kelamin)\n",
        "print (umur)\n",
        "print (no_hp)"
      ]
    },
    {
      "cell_type": "code",
      "source": [
        "perkenalan = \"\"\"\n",
        "Setelah lulus dari Institut Teknologi Telkom Purwokerto\n",
        "saya ingin menjadi data scientist.\n",
        "Saya juga ingin bekerja di luar negri, seperti di\n",
        "Australia ataupun New Zealand karena ingin menjelajahi\n",
        "dan mengunjungi berbagai tempat yang keren dan indah\n",
        "di seluruh dunia, serta mendapatkan gaji dollar.\n",
        "\"\"\"\n",
        "\n",
        "print (perkenalan)"
      ],
      "metadata": {
        "colab": {
          "base_uri": "https://localhost:8080/"
        },
        "id": "WBNSoFlo9olz",
        "outputId": "df978527-a60c-4fc6-ca5e-89a7ec4407af"
      },
      "execution_count": null,
      "outputs": [
        {
          "output_type": "stream",
          "name": "stdout",
          "text": [
            "\n",
            "Setelah lulus dari Institut Teknologi Telkom Purwokerto\n",
            "saya ingin menjadi data scientist.\n",
            "Saya juga ingin bekerja di luar negri, seperti di \n",
            "Australia ataupun New Zealand karena ingin menjelajahi\n",
            "dan mengunjungi berbagai tempat yang keren dan indah\n",
            "di seluruh dunia, serta mendapatkan gaji dollar.\n",
            "\n"
          ]
        }
      ]
    }
  ]
}